{
  "nbformat": 4,
  "nbformat_minor": 0,
  "metadata": {
    "colab": {
      "provenance": [],
      "authorship_tag": "ABX9TyPtnQ8UMTdTJ9XXJaTvrn1a",
      "include_colab_link": true
    },
    "kernelspec": {
      "name": "python3",
      "display_name": "Python 3"
    },
    "language_info": {
      "name": "python"
    }
  },
  "cells": [
    {
      "cell_type": "markdown",
      "metadata": {
        "id": "view-in-github",
        "colab_type": "text"
      },
      "source": [
        "<a href=\"https://colab.research.google.com/github/Skill1ssue-2/YiyangAlisonXu-5100/blob/main/Game%20Rating%20Prediction.ipynb\" target=\"_parent\"><img src=\"https://colab.research.google.com/assets/colab-badge.svg\" alt=\"Open In Colab\"/></a>"
      ]
    },
    {
      "cell_type": "code",
      "execution_count": 7,
      "metadata": {
        "id": "U-XSOek_q5cx"
      },
      "outputs": [],
      "source": [
        "import pandas as pd\n",
        "from sklearn.preprocessing import MultiLabelBinarizer\n",
        "from sklearn.model_selection import train_test_split\n",
        "from sklearn.metrics import mean_squared_error\n",
        "from math import sqrt\n",
        "from tensorflow.keras.models import Sequential\n",
        "from tensorflow.keras.layers import Dense\n",
        "\n",
        "# Load data\n",
        "data = pd.read_csv('games.csv')\n",
        "\n",
        "# Drop rows where 'Rating' or 'Genres' is NaN\n",
        "data.dropna(subset=['Rating', 'Genres'], inplace=True)\n",
        "\n",
        "# Preprocess Genres\n",
        "data['Genres'] = data['Genres'].apply(eval)  # Convert string representation of list to actual list\n",
        "mlb = MultiLabelBinarizer()\n",
        "genres_encoded = mlb.fit_transform(data['Genres'])\n",
        "\n",
        "# Normalize Ratings\n",
        "data['Rating'] = (data['Rating'] - data['Rating'].min()) / (data['Rating'].max() - data['Rating'].min())\n",
        "\n",
        "# Split data into training and testing sets\n",
        "X_train, X_test, y_train, y_test = train_test_split(genres_encoded, data['Rating'], test_size=0.2, random_state=42)\n"
      ]
    },
    {
      "cell_type": "code",
      "source": [
        "# Neural network architecture\n",
        "model = Sequential()\n",
        "model.add(Dense(64, input_dim=len(mlb.classes_), activation='relu'))\n",
        "model.add(Dense(32, activation='relu'))\n",
        "model.add(Dense(1, activation='linear'))  # Linear activation for regression\n",
        "\n",
        "# Compile the model\n",
        "model.compile(loss='mean_squared_error', optimizer='adam')\n"
      ],
      "metadata": {
        "id": "VC1XE-ETuPvn"
      },
      "execution_count": 8,
      "outputs": []
    },
    {
      "cell_type": "code",
      "source": [
        "# Train the model\n",
        "model.fit(X_train, y_train, epochs=50, batch_size=10, validation_split=0.2)\n"
      ],
      "metadata": {
        "colab": {
          "base_uri": "https://localhost:8080/"
        },
        "id": "15gMM1NiuXIX",
        "outputId": "434a1c8e-ac95-43ca-fd8e-01f5d00c4f4c"
      },
      "execution_count": 9,
      "outputs": [
        {
          "output_type": "stream",
          "name": "stdout",
          "text": [
            "Epoch 1/50\n",
            "96/96 [==============================] - 2s 4ms/step - loss: 0.1667 - val_loss: 0.0282\n",
            "Epoch 2/50\n",
            "96/96 [==============================] - 0s 3ms/step - loss: 0.0229 - val_loss: 0.0211\n",
            "Epoch 3/50\n",
            "96/96 [==============================] - 0s 3ms/step - loss: 0.0183 - val_loss: 0.0182\n",
            "Epoch 4/50\n",
            "96/96 [==============================] - 0s 5ms/step - loss: 0.0163 - val_loss: 0.0175\n",
            "Epoch 5/50\n",
            "96/96 [==============================] - 0s 4ms/step - loss: 0.0154 - val_loss: 0.0171\n",
            "Epoch 6/50\n",
            "96/96 [==============================] - 0s 4ms/step - loss: 0.0145 - val_loss: 0.0180\n",
            "Epoch 7/50\n",
            "96/96 [==============================] - 0s 5ms/step - loss: 0.0140 - val_loss: 0.0174\n",
            "Epoch 8/50\n",
            "96/96 [==============================] - 0s 5ms/step - loss: 0.0141 - val_loss: 0.0176\n",
            "Epoch 9/50\n",
            "96/96 [==============================] - 0s 3ms/step - loss: 0.0135 - val_loss: 0.0173\n",
            "Epoch 10/50\n",
            "96/96 [==============================] - 0s 3ms/step - loss: 0.0137 - val_loss: 0.0176\n",
            "Epoch 11/50\n",
            "96/96 [==============================] - 0s 2ms/step - loss: 0.0134 - val_loss: 0.0180\n",
            "Epoch 12/50\n",
            "96/96 [==============================] - 0s 2ms/step - loss: 0.0132 - val_loss: 0.0179\n",
            "Epoch 13/50\n",
            "96/96 [==============================] - 0s 3ms/step - loss: 0.0134 - val_loss: 0.0183\n",
            "Epoch 14/50\n",
            "96/96 [==============================] - 0s 2ms/step - loss: 0.0130 - val_loss: 0.0175\n",
            "Epoch 15/50\n",
            "96/96 [==============================] - 0s 3ms/step - loss: 0.0127 - val_loss: 0.0183\n",
            "Epoch 16/50\n",
            "96/96 [==============================] - 0s 3ms/step - loss: 0.0128 - val_loss: 0.0172\n",
            "Epoch 17/50\n",
            "96/96 [==============================] - 0s 3ms/step - loss: 0.0127 - val_loss: 0.0169\n",
            "Epoch 18/50\n",
            "96/96 [==============================] - 0s 3ms/step - loss: 0.0131 - val_loss: 0.0174\n",
            "Epoch 19/50\n",
            "96/96 [==============================] - 0s 3ms/step - loss: 0.0128 - val_loss: 0.0185\n",
            "Epoch 20/50\n",
            "96/96 [==============================] - 0s 3ms/step - loss: 0.0128 - val_loss: 0.0179\n",
            "Epoch 21/50\n",
            "96/96 [==============================] - 0s 3ms/step - loss: 0.0127 - val_loss: 0.0171\n",
            "Epoch 22/50\n",
            "96/96 [==============================] - 0s 2ms/step - loss: 0.0125 - val_loss: 0.0183\n",
            "Epoch 23/50\n",
            "96/96 [==============================] - 0s 3ms/step - loss: 0.0130 - val_loss: 0.0178\n",
            "Epoch 24/50\n",
            "96/96 [==============================] - 0s 3ms/step - loss: 0.0125 - val_loss: 0.0177\n",
            "Epoch 25/50\n",
            "96/96 [==============================] - 0s 3ms/step - loss: 0.0123 - val_loss: 0.0194\n",
            "Epoch 26/50\n",
            "96/96 [==============================] - 0s 3ms/step - loss: 0.0130 - val_loss: 0.0177\n",
            "Epoch 27/50\n",
            "96/96 [==============================] - 0s 3ms/step - loss: 0.0124 - val_loss: 0.0175\n",
            "Epoch 28/50\n",
            "96/96 [==============================] - 0s 3ms/step - loss: 0.0126 - val_loss: 0.0177\n",
            "Epoch 29/50\n",
            "96/96 [==============================] - 0s 3ms/step - loss: 0.0123 - val_loss: 0.0173\n",
            "Epoch 30/50\n",
            "96/96 [==============================] - 0s 3ms/step - loss: 0.0122 - val_loss: 0.0179\n",
            "Epoch 31/50\n",
            "96/96 [==============================] - 0s 3ms/step - loss: 0.0125 - val_loss: 0.0175\n",
            "Epoch 32/50\n",
            "96/96 [==============================] - 0s 3ms/step - loss: 0.0123 - val_loss: 0.0179\n",
            "Epoch 33/50\n",
            "96/96 [==============================] - 0s 2ms/step - loss: 0.0127 - val_loss: 0.0174\n",
            "Epoch 34/50\n",
            "96/96 [==============================] - 0s 3ms/step - loss: 0.0124 - val_loss: 0.0183\n",
            "Epoch 35/50\n",
            "96/96 [==============================] - 0s 3ms/step - loss: 0.0121 - val_loss: 0.0181\n",
            "Epoch 36/50\n",
            "96/96 [==============================] - 0s 3ms/step - loss: 0.0125 - val_loss: 0.0175\n",
            "Epoch 37/50\n",
            "96/96 [==============================] - 0s 3ms/step - loss: 0.0122 - val_loss: 0.0181\n",
            "Epoch 38/50\n",
            "96/96 [==============================] - 0s 3ms/step - loss: 0.0122 - val_loss: 0.0175\n",
            "Epoch 39/50\n",
            "96/96 [==============================] - 0s 3ms/step - loss: 0.0122 - val_loss: 0.0173\n",
            "Epoch 40/50\n",
            "96/96 [==============================] - 0s 2ms/step - loss: 0.0121 - val_loss: 0.0178\n",
            "Epoch 41/50\n",
            "96/96 [==============================] - 0s 3ms/step - loss: 0.0123 - val_loss: 0.0180\n",
            "Epoch 42/50\n",
            "96/96 [==============================] - 0s 3ms/step - loss: 0.0122 - val_loss: 0.0184\n",
            "Epoch 43/50\n",
            "96/96 [==============================] - 0s 3ms/step - loss: 0.0119 - val_loss: 0.0181\n",
            "Epoch 44/50\n",
            "96/96 [==============================] - 0s 2ms/step - loss: 0.0123 - val_loss: 0.0172\n",
            "Epoch 45/50\n",
            "96/96 [==============================] - 0s 4ms/step - loss: 0.0123 - val_loss: 0.0182\n",
            "Epoch 46/50\n",
            "96/96 [==============================] - 0s 4ms/step - loss: 0.0121 - val_loss: 0.0177\n",
            "Epoch 47/50\n",
            "96/96 [==============================] - 0s 4ms/step - loss: 0.0120 - val_loss: 0.0175\n",
            "Epoch 48/50\n",
            "96/96 [==============================] - 0s 4ms/step - loss: 0.0120 - val_loss: 0.0175\n",
            "Epoch 49/50\n",
            "96/96 [==============================] - 0s 4ms/step - loss: 0.0122 - val_loss: 0.0178\n",
            "Epoch 50/50\n",
            "96/96 [==============================] - 0s 5ms/step - loss: 0.0121 - val_loss: 0.0199\n"
          ]
        },
        {
          "output_type": "execute_result",
          "data": {
            "text/plain": [
              "<keras.src.callbacks.History at 0x7eb675b88d60>"
            ]
          },
          "metadata": {},
          "execution_count": 9
        }
      ]
    },
    {
      "cell_type": "code",
      "source": [
        "# Evaluate the model\n",
        "predictions = model.predict(X_test)\n",
        "mse = mean_squared_error(y_test, predictions)\n",
        "rmse = sqrt(mse)\n",
        "print(f'RMSE: {rmse}')\n"
      ],
      "metadata": {
        "colab": {
          "base_uri": "https://localhost:8080/"
        },
        "id": "W5cTwE6_us-e",
        "outputId": "236678e9-1aa9-4799-bfee-8f7b74e6bdd0"
      },
      "execution_count": 10,
      "outputs": [
        {
          "output_type": "stream",
          "name": "stdout",
          "text": [
            "10/10 [==============================] - 1s 8ms/step\n",
            "RMSE: 0.1315897892029004\n"
          ]
        }
      ]
    },
    {
      "cell_type": "code",
      "source": [
        "# Genres of the new game\n",
        "new_game_genres = [['Action', 'Adventure']]\n",
        "\n",
        "# Use the same MultiLabelBinarizer instance used during training\n",
        "# to ensure consistency in encoding\n",
        "new_game_encoded = mlb.transform(new_game_genres)\n",
        "\n",
        "# Making predictions\n",
        "new_game_rating_normalized = model.predict(new_game_encoded)\n",
        "\n",
        "# If you normalized your ratings between 0 and 1 during preprocessing,\n",
        "# and you want to interpret the ratings in the original scale,\n",
        "# you might want to denormalize the predicted rating.\n",
        "# For example, if your original ratings were on a scale from 1 to 5:\n",
        "min_rating = 1\n",
        "max_rating = 5\n",
        "new_game_rating = new_game_rating_normalized * (max_rating - min_rating) + min_rating\n",
        "\n",
        "print(f'Predicted Rating (normalized): {new_game_rating_normalized}')\n",
        "print(f'Predicted Rating (original scale): {new_game_rating}')\n"
      ],
      "metadata": {
        "colab": {
          "base_uri": "https://localhost:8080/"
        },
        "id": "eBt_FrzGwIfv",
        "outputId": "359b5893-68c7-4d45-da99-a0dace11d2fd"
      },
      "execution_count": 11,
      "outputs": [
        {
          "output_type": "stream",
          "name": "stdout",
          "text": [
            "1/1 [==============================] - 0s 20ms/step\n",
            "Predicted Rating (normalized): [[0.7246557]]\n",
            "Predicted Rating (original scale): [[3.8986228]]\n"
          ]
        },
        {
          "output_type": "stream",
          "name": "stderr",
          "text": [
            "/usr/local/lib/python3.10/dist-packages/sklearn/preprocessing/_label.py:895: UserWarning: unknown class(es) ['Action'] will be ignored\n",
            "  warnings.warn(\n"
          ]
        }
      ]
    },
    {
      "cell_type": "code",
      "source": [
        "# Genres of the new game\n",
        "new_game_genres = [['Turn Based Strategy']]\n",
        "\n",
        "# Use the same MultiLabelBinarizer instance used during training\n",
        "# to ensure consistency in encoding\n",
        "new_game_encoded = mlb.transform(new_game_genres)\n",
        "\n",
        "# Making predictions\n",
        "new_game_rating_normalized = model.predict(new_game_encoded)\n",
        "\n",
        "# If you normalized your ratings between 0 and 1 during preprocessing,\n",
        "# and you want to interpret the ratings in the original scale,\n",
        "# you might want to denormalize the predicted rating.\n",
        "# For example, if your original ratings were on a scale from 1 to 5:\n",
        "min_rating = 1\n",
        "max_rating = 5\n",
        "new_game_rating = new_game_rating_normalized * (max_rating - min_rating) + min_rating\n",
        "\n",
        "print(f'Predicted Rating (normalized): {new_game_rating_normalized}')\n",
        "print(f'Predicted Rating (original scale): {new_game_rating}')"
      ],
      "metadata": {
        "colab": {
          "base_uri": "https://localhost:8080/"
        },
        "id": "1QTMmHZmwQS-",
        "outputId": "c2af2935-4d52-451a-ff62-839352e41c86"
      },
      "execution_count": 15,
      "outputs": [
        {
          "output_type": "stream",
          "name": "stdout",
          "text": [
            "1/1 [==============================] - 0s 42ms/step\n",
            "Predicted Rating (normalized): [[0.77267486]]\n",
            "Predicted Rating (original scale): [[4.090699]]\n"
          ]
        }
      ]
    },
    {
      "cell_type": "code",
      "source": [
        "# Genres of the new game\n",
        "new_game_genres = [['Action']]\n",
        "\n",
        "# Use the same MultiLabelBinarizer instance used during training\n",
        "# to ensure consistency in encoding\n",
        "new_game_encoded = mlb.transform(new_game_genres)\n",
        "\n",
        "# Making predictions\n",
        "new_game_rating_normalized = model.predict(new_game_encoded)\n",
        "\n",
        "# If you normalized your ratings between 0 and 1 during preprocessing,\n",
        "# and you want to interpret the ratings in the original scale,\n",
        "# you might want to denormalize the predicted rating.\n",
        "# For example, if your original ratings were on a scale from 1 to 5:\n",
        "min_rating = 1\n",
        "max_rating = 5\n",
        "new_game_rating = new_game_rating_normalized * (max_rating - min_rating) + min_rating\n",
        "\n",
        "print(f'Predicted Rating (normalized): {new_game_rating_normalized}')\n",
        "print(f'Predicted Rating (original scale): {new_game_rating}')"
      ],
      "metadata": {
        "colab": {
          "base_uri": "https://localhost:8080/"
        },
        "id": "vOBZl6l2yoaO",
        "outputId": "f86a8273-fcab-46c5-9426-d8bf5cfb8789"
      },
      "execution_count": 16,
      "outputs": [
        {
          "output_type": "stream",
          "name": "stdout",
          "text": [
            "1/1 [==============================] - 0s 101ms/step\n",
            "Predicted Rating (normalized): [[0.6757678]]\n",
            "Predicted Rating (original scale): [[3.703071]]\n"
          ]
        }
      ]
    }
  ]
}